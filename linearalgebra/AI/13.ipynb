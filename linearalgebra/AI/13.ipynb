{
 "cells": [
  {
   "cell_type": "markdown",
   "metadata": {},
   "source": [
    "## 齐次与非齐次方程组\n",
    "\n",
    "### 1. 齐次方程组\n",
    "\n",
    "#### 定义\n",
    "\n",
    "一个线性方程组如果右边的常数项全为零，则称为齐次方程组。它可以表示为：\n",
    "$$ A\\mathbf{x} = \\mathbf{0} $$\n",
    "\n",
    "其中，$ A $ 是系数矩阵，$ x $ 是未知变量向量，$ 0 $ 是零向量。\n",
    "\n",
    "#### 例子\n",
    "\n",
    "$$ \\begin{cases}\n",
    "2x + 3y - z &= 0 \\\\\n",
    "4x + 6y - 2z &= 0 \\\\\n",
    "-x + y + 2z &= 0\n",
    "\\end{cases} \\quad\n",
    "其中：\n",
    "A = \\begin{pmatrix} 2 & 3 & -1 \\\\\n",
    "                    4 & 6 & -2 \\\\\n",
    "                    -1 & 1 & 2\\end{pmatrix}, \\quad \n",
    "    \\mathbf{x} = \\begin{pmatrix} x \\\\ y \\\\ z \\end{pmatrix}, \\quad \n",
    "    \\mathbf{0} = \\begin{pmatrix} 0 \\\\ 0 \\\\ 0 \\end{pmatrix} $$\n",
    "\n",
    "#### 解的性质\n",
    "\n",
    "齐次方程组的解总是包括零解，即 $ \\mathbf{x} = \\mathbf{0} $ 。如果该方程组有非零解，则称为非平凡解。通过高斯消元法，可以求得此方程组的解的形式。当自由变量的数量大于0时，方程组将有无穷多解。"
   ]
  },
  {
   "cell_type": "code",
   "execution_count": 1,
   "metadata": {},
   "outputs": [
    {
     "name": "stdout",
     "output_type": "stream",
     "text": [
      "齐次方程组的解的维度为 1\n"
     ]
    }
   ],
   "source": [
    "import numpy as np\n",
    "\n",
    "# 定义系数矩阵 A\n",
    "A = np.array([[2, 3, -1],\n",
    "              [4, 6, -2],\n",
    "              [-1, 1, 2]])\n",
    "\n",
    "# 使用 NumPy 的线性代数库求解 Ax = 0\n",
    "# 因为是齐次方程组，我们只需要求出零解与非平凡解\n",
    "u, s, vt = np.linalg.svd(A)  # 奇异值分解\n",
    "    \n",
    "# 非零奇异值对应的列就是解的基础\n",
    "rank = np.sum(s > 1e-10)  # 发现有几个非零的奇异值\n",
    "null_space_dim = A.shape[1] - rank  # 求解空域的维度\n",
    "\n",
    "print(f\"齐次方程组的解的维度为 {null_space_dim}\")"
   ]
  },
  {
   "cell_type": "markdown",
   "metadata": {},
   "source": [
    "### 2. 非齐次方程组\n",
    "\n",
    "#### 定义\n",
    "\n",
    "如果一个线性方程组的常数项不全为零，则称为非齐次方程组。其形式为：\n",
    "$$ A\\mathbf{x} = \\mathbf{b} $$\n",
    "其中，$ b $ 是非零向量。\n",
    "\n",
    "#### 例子\n",
    " \n",
    "$$ \\begin{cases}\n",
    "2x + 3y - z = 5 \\\\\n",
    "4x + 6y - 2z = 10 \\\\\n",
    "-x + y + 2z = 3\n",
    "\\end{cases} \\quad\n",
    "矩阵表示为：\n",
    "A = \\begin{pmatrix} 2 & 3 & -1 \\\\\n",
    "                    4 & 6 & -2 \\\\\n",
    "                    -1 & 1 & 2 \\end{pmatrix}, \\quad \n",
    "    \\mathbf{x} = \\begin{pmatrix} x \\\\ y \\\\ z \\end{pmatrix}, \\quad \n",
    "    \\mathbf{b} = \\begin{pmatrix} 5 \\\\ 10 \\\\ 3 \\end{pmatrix} $$\n",
    "\n",
    "#### 解的性质\n",
    "\n",
    "非齐次方程组可能具有唯一解、无解或无穷多解。根据方程的阶数和自由变量的数量，我们可以使用高斯消元法或者其他数值方法求解。"
   ]
  }
 ],
 "metadata": {
  "kernelspec": {
   "display_name": "Python 3",
   "language": "python",
   "name": "python3"
  },
  "language_info": {
   "codemirror_mode": {
    "name": "ipython",
    "version": 3
   },
   "file_extension": ".py",
   "mimetype": "text/x-python",
   "name": "python",
   "nbconvert_exporter": "python",
   "pygments_lexer": "ipython3",
   "version": "3.10.10"
  }
 },
 "nbformat": 4,
 "nbformat_minor": 2
}
