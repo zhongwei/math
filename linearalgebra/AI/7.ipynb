{
 "cells": [
  {
   "cell_type": "markdown",
   "metadata": {},
   "source": [
    "## 7. 矩阵的转置与逆\n",
    "\n",
    "### 矩阵的转置\n",
    "\n",
    "#### 定义\n",
    "\n",
    "一个矩阵的转置是通过将矩阵的行和列互换来得到的新矩阵。对于一个矩阵 $ A $，如果 $ A $ 的大小为 $ m \\times n $，则其转置 $ A^T $ 的大小为 $ n \\times m $。具体来说，如果:\n",
    "\n",
    "$$ A = \\begin{pmatrix} a_{11} & a_{12} & \\cdots & a_{1n} \\\\\n",
    "                       a_{21} & a_{22} & \\cdots & a_{2n} \\\\\n",
    "                       \\vdots & \\vdots & \\ddots & \\vdots \\\\\n",
    "                       a_{m1} & a_{m2} & \\cdots & a_{mn} \\end{pmatrix} \\quad\n",
    "\n",
    "则其转置为：\n",
    "\n",
    "   A^T = \\begin{pmatrix} a_{11} & a_{21} & \\cdots & a_{m1} \\\\\n",
    "                         a_{12} & a_{22} & \\cdots & a_{m2} \\\\\n",
    "                         \\vdots & \\vdots & \\ddots & \\vdots \\\\\n",
    "                         a_{1n} & a_{2n} & \\cdots & a_{mn} \\end{pmatrix} $$\n",
    "\n",
    "#### 性质\n",
    "\n",
    "1. 双重转置：$ (A^T)^T = A $ 。\n",
    "2. 转置的和：$ (A + B)^T = A^T + B^T $ 。\n",
    "3. 转置的乘法：$ (AB)^T = B^T A^T $ 。\n",
    "\n",
    "#### 例子\n",
    "\n",
    "$$ A = \\begin{pmatrix} 1 & 2 \\\\\n",
    "                       3 & 4 \\end{pmatrix} \\quad\n",
    "则其转置为：\n",
    "   A^T = \\begin{pmatrix} 1 & 3 \\\\\n",
    "                         2 & 4 \\end{pmatrix} $$"
   ]
  },
  {
   "cell_type": "code",
   "execution_count": 4,
   "metadata": {},
   "outputs": [
    {
     "name": "stdout",
     "output_type": "stream",
     "text": [
      "原矩阵 A:\n",
      " [[1 2]\n",
      " [3 4]]\n",
      "转置矩阵 A^T:\n",
      " [[1 3]\n",
      " [2 4]]\n"
     ]
    }
   ],
   "source": [
    "import numpy as np\n",
    "\n",
    "A = np.array([[1, 2], [3, 4]])\n",
    "A_transpose = A.T\n",
    "\n",
    "print(\"原矩阵 A:\\n\", A)\n",
    "print(\"转置矩阵 A^T:\\n\", A_transpose)"
   ]
  },
  {
   "cell_type": "markdown",
   "metadata": {},
   "source": [
    "### 矩阵的逆\n",
    "\n",
    "#### 定义\n",
    "\n",
    "一个可逆矩阵（或称为非奇异矩阵）是指一个方阵 $ A $ 存在一个矩阵 $ B $，使得 $ AB = BA = I $，其中 $ I $ 是单位矩阵。在这种情况下，我们称 $ B $ 为 $ A $ 的逆矩阵，通常记作 $ A^{-1} $。\n",
    "\n",
    "\n",
    "\n",
    "#### 性质\n",
    "\n",
    "1. 唯一性: 若矩阵 $ A $ 可逆，则其逆矩阵 $ A^{-1} $ 唯一。\n",
    "2. 逆的乘法: $ (AB)^{-1} = B^{-1} A^{-1} $。\n",
    "3. 逆的转置: $ (A^T)^{-1} = (A^{-1})^T $。\n",
    "\n",
    "#### 例子\n",
    "\n",
    "$$ A = \\begin{pmatrix} 4 & 7 \\\\\n",
    "                       2 & 6 \\end{pmatrix} \\quad\n",
    "   计算行列式判断其是否可逆：\n",
    "   \\text{det}(A) = 4 \\cdot 6 - 7 \\cdot 2 = 24 - 14 = 10 \\neq 0\n",
    "                       $$\n",
    "\n",
    "行列式不为零，矩阵 $ A $ 可逆。\n",
    "\n",
    "$$ A^{-1} = \\frac{1}{\\text{det}(A)} \\begin{pmatrix} d & -b \\\\\n",
    "                                                    -c & a \\end{pmatrix} \n",
    "          = \\frac{1}{10} \\begin{pmatrix} 6 & -7 \\\\\n",
    "                                        -2 & 4 \\end{pmatrix} \n",
    "          = \\begin{pmatrix} 0.6 & -0.7 \\\\\n",
    "                           -0.2 & 0.4 \\end{pmatrix} $$"
   ]
  },
  {
   "cell_type": "code",
   "execution_count": 2,
   "metadata": {},
   "outputs": [
    {
     "name": "stdout",
     "output_type": "stream",
     "text": [
      "原矩阵 A:\n",
      " [[4 7]\n",
      " [2 6]]\n",
      "逆矩阵 A^{-1}:\n",
      " [[ 0.6 -0.7]\n",
      " [-0.2  0.4]]\n"
     ]
    }
   ],
   "source": [
    "import numpy as np\n",
    "\n",
    "A = np.array([[4, 7], [2, 6]])\n",
    "A_inv = np.linalg.inv(A)\n",
    "\n",
    "print(\"原矩阵 A:\\n\", A)\n",
    "print(\"逆矩阵 A^{-1}:\\n\", A_inv)"
   ]
  }
 ],
 "metadata": {
  "kernelspec": {
   "display_name": "Python 3",
   "language": "python",
   "name": "python3"
  },
  "language_info": {
   "codemirror_mode": {
    "name": "ipython",
    "version": 3
   },
   "file_extension": ".py",
   "mimetype": "text/x-python",
   "name": "python",
   "nbconvert_exporter": "python",
   "pygments_lexer": "ipython3",
   "version": "3.10.10"
  }
 },
 "nbformat": 4,
 "nbformat_minor": 2
}
