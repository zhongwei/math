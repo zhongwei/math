{
 "cells": [
  {
   "cell_type": "markdown",
   "metadata": {},
   "source": [
    "## 4. 矩阵的定义与表示\n",
    "\n",
    "### 矩阵的定义\n",
    "\n",
    "一个m × n的矩阵可以表示为：$$ A = \\begin{pmatrix}\n",
    "a_{11} & a_{12} & \\cdots & a_{1n} \\\n",
    "a_{21} & a_{22} & \\cdots & a_{2n} \\\n",
    "\\vdots & \\vdots & \\ddots & \\vdots \\\n",
    "a_{m1} & a_{m2} & \\cdots & a_{mn}\n",
    "\\end{pmatrix} $$\n",
    "\n",
    "### 矩阵的类型\n",
    "\n",
    "- 行矩阵：只有一行的矩阵，形如1 × n。\n",
    "- 列矩阵：只有一列的矩阵，形如m × 1。\n",
    "- 方阵：行数和列数相等的矩阵，形如n × n。\n",
    "- 零矩阵：所有元素均为零的矩阵。\n",
    "- 单位矩阵：对角线上为1，其他元素为0的方阵，通常用I_n表示。\n",
    "\n",
    "### 矩阵的表示\n",
    "\n",
    "1. 文本表示：\n",
    "2. LaTeX 表示：\n",
    "\n",
    "### 组成矩阵的元素\n",
    "\n",
    "矩阵的元素可以是任何类型的数据，如整数、浮点数，甚至是更复杂的数据类型。在实际应用中，我们主要关注浮点数矩阵，因为它们用于表示图像、音频等各种数据。"
   ]
  },
  {
   "cell_type": "markdown",
   "metadata": {},
   "source": [
    "### 案例：图像处理中的矩阵\n",
    "\n",
    "在图像处理中，彩色图片通常可以表示为一个3D矩阵。例如，一张宽为W、高为H的RGB图像可以表示为一个H × W × 3的矩阵，其中3对应红、绿、蓝三种颜色通道。每个元素代表通道的取值（通常在0到255之间）。\n",
    "\n",
    "可以用Python的NumPy库进行矩阵操作:"
   ]
  },
  {
   "cell_type": "code",
   "execution_count": 1,
   "metadata": {},
   "outputs": [
    {
     "name": "stdout",
     "output_type": "stream",
     "text": [
      "矩阵 A:\n",
      "[[1 2 3]\n",
      " [4 5 6]]\n",
      "单位矩阵 I:\n",
      "[[1. 0.]\n",
      " [0. 1.]]\n"
     ]
    }
   ],
   "source": [
    "import numpy as np\n",
    "\n",
    "# 创建一个 2行 3列的矩阵\n",
    "A = np.array([[1, 2, 3],\n",
    "              [4, 5, 6]])\n",
    "\n",
    "print(\"矩阵 A:\")\n",
    "print(A)\n",
    "\n",
    "# 创建一个 2 × 2 的单位矩阵\n",
    "I = np.eye(2)\n",
    "print(\"单位矩阵 I:\")\n",
    "print(I)"
   ]
  },
  {
   "cell_type": "markdown",
   "metadata": {},
   "source": [
    "### 矩阵的维度与形状"
   ]
  },
  {
   "cell_type": "code",
   "execution_count": 2,
   "metadata": {},
   "outputs": [
    {
     "name": "stdout",
     "output_type": "stream",
     "text": [
      "矩阵 A 的形状: (2, 3)\n"
     ]
    }
   ],
   "source": [
    "print(\"矩阵 A 的形状:\", A.shape)  # 输出: (2, 3)"
   ]
  },
  {
   "cell_type": "code",
   "execution_count": null,
   "metadata": {},
   "outputs": [],
   "source": []
  }
 ],
 "metadata": {
  "kernelspec": {
   "display_name": "Python 3",
   "language": "python",
   "name": "python3"
  },
  "language_info": {
   "codemirror_mode": {
    "name": "ipython",
    "version": 3
   },
   "file_extension": ".py",
   "mimetype": "text/x-python",
   "name": "python",
   "nbconvert_exporter": "python",
   "pygments_lexer": "ipython3",
   "version": "3.10.10"
  }
 },
 "nbformat": 4,
 "nbformat_minor": 2
}
