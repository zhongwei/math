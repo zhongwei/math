{
 "cells": [
  {
   "cell_type": "markdown",
   "metadata": {},
   "source": [
    "## 3. 向量的定义与表示\n",
    "\n",
    "### 向量的定义\n",
    "\n",
    "在数学中，向量是一种具有大小和方向的量。可以用来表示多维空间中的点、速度、力等物理量。在线性代数中，向量通常表示为一个有序的数列，可以是行向量或者列向量。\n",
    "\n",
    "#### 一维与多维向量\n",
    "\n",
    "- 一维向量：$ \\mathbf{v} = [5] $\n",
    "- 二维向量：$ \\mathbf{v} = [3, 4] $\n",
    "- 三维向量：$ \\mathbf{v} = [1, -2, 2] $\n",
    "\n",
    "$ \\mathbf{v} \\in \\mathbb{R}^n $ 表示一个维度为n的向量，$ \\mathbb{R}^n $表示所有可能的n维实数向量的集合。\n",
    "\n",
    "### 向量的表示\n",
    "\n",
    "1. 坐标表示：$ \\mathbf{v} = [x, y] $\n",
    "\n",
    "2. 列向量与行向量：\n",
    "    - 列向量的定义：一个$n \\times 1 $的矩阵:\n",
    "\n",
    "    $$ \\mathbf{v} = \\begin{bmatrix} x_1 x_2 \\vdots x_n \\end{bmatrix} $$\n",
    "\n",
    "    - 行向量的定义：一个$1 \\times n $的矩阵:\n",
    "\n",
    "    $$ \\mathbf{v} = \\begin{bmatrix} x_1 & x_2 & \\cdots & x_n \\end{bmatrix} $$\n",
    "\n",
    "### 向量的运算\n",
    "\n",
    "1. 向量加法：$ \\mathbf{a} = [a_1, a_2] $ 与 $ \\mathbf{b} = [b_1, b_2] $ 的和\n",
    "\n",
    "$$ \\mathbf{c} = \\mathbf{a} + \\mathbf{b} = [a_1 + b_1, a_2 + b_2] $$\n",
    "\n",
    "2. 向量数乘：k乘以向量$ \\mathbf{a} = [a_1, a_2] $\n",
    "\n",
    "$$ \\mathbf{b} = k \\cdot \\mathbf{a} = [k \\cdot a_1, k \\cdot a_2] $$\n",
    "\n"
   ]
  },
  {
   "cell_type": "markdown",
   "metadata": {},
   "source": [
    "### 案例：向量在机器学习中的应用\n",
    "\n",
    "假设我们有一张6像素的黑白图片，可以用一个一维的向量来表示。"
   ]
  },
  {
   "cell_type": "code",
   "execution_count": 1,
   "metadata": {},
   "outputs": [
    {
     "name": "stdout",
     "output_type": "stream",
     "text": [
      "[[255]\n",
      " [  0]\n",
      " [255]\n",
      " [128]\n",
      " [ 64]\n",
      " [ 32]]\n"
     ]
    }
   ],
   "source": [
    "import numpy as np\n",
    "\n",
    "# 假设一张图片的像素值（0-255）\n",
    "image_pixels = np.array([255, 0, 255, 128, 64, 32]).reshape(6, 1)  # 列向量\n",
    "print(image_pixels)"
   ]
  },
  {
   "cell_type": "code",
   "execution_count": null,
   "metadata": {},
   "outputs": [],
   "source": []
  }
 ],
 "metadata": {
  "kernelspec": {
   "display_name": "Python 3",
   "language": "python",
   "name": "python3"
  },
  "language_info": {
   "codemirror_mode": {
    "name": "ipython",
    "version": 3
   },
   "file_extension": ".py",
   "mimetype": "text/x-python",
   "name": "python",
   "nbconvert_exporter": "python",
   "pygments_lexer": "ipython3",
   "version": "3.10.10"
  }
 },
 "nbformat": 4,
 "nbformat_minor": 2
}
