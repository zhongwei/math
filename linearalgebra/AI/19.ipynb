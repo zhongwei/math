{
 "cells": [
  {
   "cell_type": "markdown",
   "metadata": {},
   "source": [
    "## 内积空间的应用\n",
    "\n",
    "### 内积空间的基本概念\n",
    "在内积空间中，每一对向量都可以通过内积运算得到一个标量，内积的定义为：\n",
    "$$ \\langle \\mathbf{u}, \\mathbf{v} \\rangle = \\sum_{i=1}^n u_i v_i $$\n",
    "\n",
    "其中，$ \\mathbf{u} $ 和 $ \\mathbf{v} $ 是 $ n $ 维向量。内积的几何意义可以通过以下两种方式理解：\n",
    "1. 长度：内积的平方根给出了向量的长度，即 $ |\\mathbf{u}| = \\sqrt{\\langle \\mathbf{u}, \\mathbf{u} \\rangle} $。\n",
    "2. 角度：内积可用于计算两向量间的夹角，即 $ \\cos \\theta = \\frac{\\langle \\mathbf{u}, \\mathbf{v} \\rangle}{|\\mathbf{u}||\\mathbf{v}|} $ ，这表明向量的方向关系。\n",
    "\n",
    "### 应用：数据分析中的向量比较\n",
    "在实际应用中，尤其是在机器学习和数据分析中，内积提供了一个强大的工具来比较特征向量之间的相似性。例如，在信息检索中，我们可能会用到文档之间的相似性度量，这可以通过计算文档向量的内积来实现。"
   ]
  },
  {
   "cell_type": "code",
   "execution_count": 4,
   "metadata": {},
   "outputs": [
    {
     "name": "stdout",
     "output_type": "stream",
     "text": [
      "文档1与文档4的内积相似性: 1.0\n"
     ]
    }
   ],
   "source": [
    "# 计算文本相似性\n",
    "# 假设我们要比较两个文本的相似性，首先需要将文本转换为向量表示。这里我们使用词频-逆文档频率（TF-IDF）来表示文本：\n",
    "\n",
    "from sklearn.feature_extraction.text import TfidfVectorizer\n",
    "\n",
    "documents = [\n",
    "    \"这是第一篇文档。\",\n",
    "    \"这是第二篇文档。\",\n",
    "    \"这是第三篇文档。\",\n",
    "    \"这是第一篇文档。\",   \n",
    "]\n",
    "\n",
    "vectorizer = TfidfVectorizer()\n",
    "tfidf_matrix = vectorizer.fit_transform(documents)\n",
    "\n",
    "# 获取第一个和第二个文档的TF-IDF向量\n",
    "doc1 = tfidf_matrix[0].toarray()[0]\n",
    "doc4 = tfidf_matrix[3].toarray()[0]\n",
    "\n",
    "# 计算内积\n",
    "inner_product = sum(d1 * d2 for d1, d2 in zip(doc1, doc4))\n",
    "print(\"文档1与文档4的内积相似性:\", inner_product)"
   ]
  },
  {
   "cell_type": "markdown",
   "metadata": {},
   "source": [
    "### 正交性在信号处理中的应用\n",
    "在信号处理领域，正交性被广泛应用于减少噪声和提高信号质量。若两个信号是正交的，那么它们在一定意义下是“独立”的，可以通过内积的算子直接判断。    \n",
    "**例子**  \n",
    "如果信号 $ \\mathbf{x} $ 与 $ \\mathbf{y} $ 的内积为零：$ \\langle \\mathbf{x}, \\mathbf{y} \\rangle = 0 $\n",
    "则可以说这两个信号是正交的。这一特性使得在数据传输与存储时，正交信号可以避免互相干扰。"
   ]
  },
  {
   "cell_type": "markdown",
   "metadata": {},
   "source": []
  }
 ],
 "metadata": {
  "kernelspec": {
   "display_name": "Python 3",
   "language": "python",
   "name": "python3"
  },
  "language_info": {
   "codemirror_mode": {
    "name": "ipython",
    "version": 3
   },
   "file_extension": ".py",
   "mimetype": "text/x-python",
   "name": "python",
   "nbconvert_exporter": "python",
   "pygments_lexer": "ipython3",
   "version": "3.10.10"
  }
 },
 "nbformat": 4,
 "nbformat_minor": 2
}
