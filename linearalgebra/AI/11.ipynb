{
 "cells": [
  {
   "cell_type": "markdown",
   "metadata": {},
   "source": [
    "## 线性方程的定义\n",
    "\n",
    "### 线性方程的形式\n",
    "\n",
    "$$ a_1 x_1 + a_2 x_2 + \\ldots + a_n x_n = b $$\n",
    "\n",
    "这里，$ x_1, x_2, \\ldots, x_n $ 是未知数，$ a_1, a_2, \\ldots, a_n $ 是系数，而 $ b $ 是常数项。要注意的是，任何一个线性方程都是其未知数的线性组合。\n",
    "\n",
    "**例子**\n",
    "\n",
    "$$ 2x + 3y = 6 $$\n",
    "\n",
    "1. 系数 $ a_1 = 2, a_2 = 3 $\n",
    "2. 常数项 $ b = 6 $\n",
    "3. 变量 $ x $ 和 $ y $ 是未知数\n",
    "\n",
    "### 多个线性方程\n",
    "\n",
    "1. $ 2x + 3y = 6 $\n",
    "2. $ 4x - y = 5 $\n",
    "\n",
    "其表示为矩阵形式：\n",
    "\n",
    "$ \\begin{bmatrix} 2 & 3 \\\\ 4 & -1 \\end{bmatrix} \\quad $\n",
    "$ \\begin{bmatrix} x \\\\ y \\end{bmatrix} \\quad $\n",
    "$ \\begin{bmatrix} 6 \\\\ 5 \\end{bmatrix} $\n",
    "\n",
    "在这里，$ \\begin{bmatrix} 2 & 3 \\\\ 4 & -1 \\end{bmatrix} $ 是系数矩阵， \n",
    "$ \\begin{bmatrix} x \\\\ y \\end{bmatrix} $ 是未知数列向量，\n",
    "而 $ \\begin{bmatrix} 6 \\\\ 5 \\end{bmatrix} $ 是常数项向量。\n",
    "\n",
    "### 线性方程的解\n",
    "\n",
    "线性方程的解是使得方程成立的变量组合。对于一个线性方程，有且只有一个解或一组无穷多解。\n",
    "\n",
    "### 线性方程的应用\n",
    "\n",
    "在人工智能中，线性方程用于各种场景，比如回归分析、模型训练等。例如，在线性回归中，我们通过最小化损失函数来寻求最佳拟合线，这个过程的核心就是解线性方程。"
   ]
  },
  {
   "cell_type": "code",
   "execution_count": 1,
   "metadata": {},
   "outputs": [
    {
     "name": "stdout",
     "output_type": "stream",
     "text": [
      "解为: [1.5 1. ]\n"
     ]
    }
   ],
   "source": [
    "import numpy as np\n",
    "\n",
    "# 定义系数矩阵和常数项向量\n",
    "A = np.array([[2, 3], [4, -1]])\n",
    "B = np.array([6, 5])\n",
    "\n",
    "# 求解线性方程组 Ax = B\n",
    "solution = np.linalg.solve(A, B)\n",
    "\n",
    "print(\"解为:\", solution)"
   ]
  }
 ],
 "metadata": {
  "kernelspec": {
   "display_name": "Python 3",
   "language": "python",
   "name": "python3"
  },
  "language_info": {
   "codemirror_mode": {
    "name": "ipython",
    "version": 3
   },
   "file_extension": ".py",
   "mimetype": "text/x-python",
   "name": "python",
   "nbconvert_exporter": "python",
   "pygments_lexer": "ipython3",
   "version": "3.10.10"
  }
 },
 "nbformat": 4,
 "nbformat_minor": 2
}
