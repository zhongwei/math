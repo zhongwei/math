{
 "cells": [
  {
   "cell_type": "markdown",
   "metadata": {},
   "source": [
    "## 行列式的计算\n",
    "\n",
    "### 定义和基本计算法则\n",
    "\n",
    "行列式是一个定义在方阵上的数值，可以用来判断矩阵的可逆性以及其所表示的线性变换的特征。对于一个 $ n \\times n $ 的方阵 $ A = [a_{ij}] $，它的行列式记作 $ |A| $ 或 $ \\text{det}(A) $。\n",
    "\n",
    "### 二阶行列式的计算\n",
    "\n",
    "$$ A = \\begin{pmatrix} a & b \\\\\n",
    "                       c & d \\end{pmatrix} \\quad \n",
    "   行列式计算公式为：\n",
    "   \\text{det}(A) = ad - bc $$\n",
    "\n",
    "**例子**\n",
    "\n",
    "$$ A = \\begin{pmatrix} 1 & 2 \\\\\n",
    "                       3 & 4 \\end{pmatrix} \\quad\n",
    "   行列式计算为：\n",
    "   \\text{det}(A) = 1 \\cdot 4 - 2 \\cdot 3 = 4 - 6 = -2 $$\n",
    "\n",
    "### 三阶行列式的计算\n",
    "\n",
    "$$ B = \\begin{pmatrix} a & b & c \\\\\n",
    "                       d & e & f \\\\\n",
    "                       g & h & i \\end{pmatrix} $$\n",
    "行列式可以通过“拉普拉斯展开”来计算:\n",
    "$$ \\text{det}(B) = a(ei - fh) - b(di - fg) + c(dh - eg) $$\n",
    "\n",
    "**例子**\n",
    "\n",
    "$$ B = \\begin{pmatrix} 1 & 2 & 3 \\\\\n",
    "                       0 & 1 & 4 \\\\\n",
    "                       5 & 6 & 0 \\end{pmatrix} $$\n",
    "行列式计算为：\n",
    "\n",
    "$ \\text{det}(B) = 1(1 \\cdot 0 - 4 \\cdot 6) - 2(0 \\cdot 0 - 4 \\cdot 5) + 3(0 \\cdot 6 - 1 \\cdot 5) $\n",
    "\n",
    "$ = 1(0 - 24) - 2(0 - 20) + 3(0 - 5) $\n",
    "\n",
    "$ = -24 + 40 - 15 = 1 $\n",
    "\n",
    "### 计算更高阶行列式\n",
    "\n",
    "对于更高阶的行列式（如4阶及以上），可以采用递归的方法，使用“拉普拉斯展开”沿任意一行或一列进行展开，或者使用行列式的性质进行简化。"
   ]
  },
  {
   "cell_type": "code",
   "execution_count": 1,
   "metadata": {},
   "outputs": [
    {
     "name": "stdout",
     "output_type": "stream",
     "text": [
      "Matrix B's determinant is: 0.9999999999999964\n"
     ]
    }
   ],
   "source": [
    "import numpy as np\n",
    "\n",
    "# 定义一个3x3的矩阵\n",
    "matrix_B = np.array([[1, 2, 3],\n",
    "                     [0, 1, 4],\n",
    "                     [5, 6, 0]])\n",
    "\n",
    "# 计算行列式\n",
    "det_B = np.linalg.det(matrix_B)\n",
    "\n",
    "print(f\"Matrix B's determinant is: {det_B}\")"
   ]
  },
  {
   "cell_type": "markdown",
   "metadata": {},
   "source": [
    "### 证明范德蒙（Vandermonde）行列式\n",
    "$$ \\begin{vmatrix} 1 & 1 & \\dots & 1 \\\\\n",
    "                   x_1 & x_2 & \\dots & x_n \\\\\n",
    "                   x_1^2 & x_2^2 & \\dots & x_n^2 \\\\\n",
    "                   \\vdots & \\vdots & \\ddots & \\vdots \\\\\n",
    "                   x_1^{n-1} & x_2^{n-1} & \\dots & x_n^{n-1} \\end{vmatrix} \n",
    "    = \\prod_{1\\le j\\le i\\le n}(x_i - x_j)$$\n",
    "\n",
    "证明: 　用数学归纳法证明．当 $ n＝2 $ 时，\n",
    "$$ V_2 = \\begin{vmatrix} 1 & 1 \\\\ x_1 & x_2 \\end{vmatrix} = x_2 - x_1 = \\prod_{1\\le j\\le i\\le 2}(x_i - x_j) $$  \n",
    "结论成立．归纳假设: 假设对于 $ n=k $ 时，范德蒙行列式的值为：\n",
    "$$ V_k = \\prod_{1 \\leq i < j \\leq k} (x_j - x_i) $$\n",
    "现在考虑 $ n=k+1 $ 的情况。我们可以将范德蒙行列式写作：\n",
    "$$ V_{k+1} = \\begin{vmatrix} \n",
    "1 & 1 & 1 & \\cdots & 1 & 1 \\\\\n",
    "x_1 & x_2 & x_3 & \\cdots & x_k & x_{k+1} \\\\\n",
    "x_1^2 & x_2^2 & x_3^2 & \\cdots & x_k^2 & x_{k+1}^2 \\\\\n",
    "\\vdots & \\vdots & \\vdots & \\ddots & \\vdots & \\vdots \\\\\n",
    "x_1^k & x_2^k & x_3^k & \\cdots & x_k^k & x_{k+1}^k\n",
    "\\end{vmatrix}\n",
    " $$"
   ]
  }
 ],
 "metadata": {
  "kernelspec": {
   "display_name": "Python 3",
   "language": "python",
   "name": "python3"
  },
  "language_info": {
   "codemirror_mode": {
    "name": "ipython",
    "version": 3
   },
   "file_extension": ".py",
   "mimetype": "text/x-python",
   "name": "python",
   "nbconvert_exporter": "python",
   "pygments_lexer": "ipython3",
   "version": "3.10.10"
  }
 },
 "nbformat": 4,
 "nbformat_minor": 2
}
