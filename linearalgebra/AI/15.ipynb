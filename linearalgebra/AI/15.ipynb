{
 "cells": [
  {
   "cell_type": "markdown",
   "metadata": {},
   "source": [
    "## 特征向量\n",
    "\n",
    "### 计算特征向量\n",
    "\n",
    "$ A = \\begin{pmatrix} 2 & 1 \\\\ 1 & 2 \\end{pmatrix} $ \n",
    "特征值 $ \\lambda_1 = 3 $ 和 $ \\lambda_2 = 1 $。\n",
    "\n",
    "对于每个特征值，我们将其代入 $ A \\mathbf{v} = \\lambda \\mathbf{v} $ 中，求解特征向量。\n",
    "\n",
    "特征值 $ \\lambda_1 = 3 $ ：\n",
    "\n",
    "$$ A \\mathbf{v} = 3 \\mathbf{v} \\implies (A - 3I) \\mathbf{v} = 0   \n",
    "    \\implies A - 3I = \\begin{pmatrix} -1 & 1 \\\\ 1 & -1 \\end{pmatrix} $$\n",
    "$$ \\begin{pmatrix} -1 & 1 \\\\ 1 & -1 \\end{pmatrix} \\begin{pmatrix} x \\\\ y \\end{pmatrix} = 0 \n",
    "    \\implies \\begin{cases} -x + y = 0 \\\\ x - y = 0 \\end{cases} \n",
    "    \\implies v_1 = k\\begin{pmatrix} 1 \\\\ 1 \\end{pmatrix} $$\n",
    "\n",
    "特征值 $ \\lambda_1 = 1 $ ：\n",
    "\n",
    "$$ A \\mathbf{v} = 1 \\mathbf{v} \\implies (A - I) \\mathbf{v} = 0   \n",
    "    \\implies A - I = \\begin{pmatrix} 1 & 1 \\\\ 1 & 1 \\end{pmatrix} $$\n",
    "$$ \\begin{pmatrix} 1 & 1 \\\\ 1 & 1 \\end{pmatrix} \\begin{pmatrix} x \\\\ y \\end{pmatrix} = 0 \n",
    "    \\implies x + y = 0 \\implies v_2 = k\\begin{pmatrix} 1 \\\\ -1 \\end{pmatrix} $$\n",
    "\n",
    "\n",
    "\n",
    "\n"
   ]
  }
 ],
 "metadata": {
  "language_info": {
   "name": "python"
  }
 },
 "nbformat": 4,
 "nbformat_minor": 2
}
