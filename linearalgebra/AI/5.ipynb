{
 "cells": [
  {
   "cell_type": "markdown",
   "metadata": {},
   "source": [
    "## 5. 向量与矩阵的运算\n",
    "\n",
    "### 向量和矩阵的基本概念回顾\n",
    "\n",
    "- 向量：向量是一个有序的数字集合，通常用$ n \\times 1 $的列矩阵表示。例如，向量$ \\mathbf{v} = \\begin{bmatrix} 1 \\ 2 \\ 3 \\end{bmatrix} $是一个三维向量。\n",
    "- 矩阵：矩阵是一个由数值排列成的二维数组。一个$ m \\times n $的矩阵可以表示为:\n",
    "\n",
    "$$ A = \\begin{bmatrix} a_{11} & a_{12} & \\ldots & a_{1n} \\\\ \n",
    "                       a_{21} & a_{22} & \\ldots & a_{2n} \\\\\n",
    "                       \\vdots & \\vdots & \\ddots & \\vdots \\\\\n",
    "                       a_{m1} & a_{m2} & \\ldots & a_{mn} \\end{bmatrix} $$\n",
    "\n",
    "### 向量的运算\n",
    "\n",
    "#### 向量加法\n",
    "\n",
    "$ \\mathbf{u} = \\begin{bmatrix} u_1 \\ u_2 \\ \\vdots \\ u_n \\end{bmatrix} $ 与 $ \\mathbf{v} = \\begin{bmatrix} v_1 \\ v_2 \\ \\vdots \\ v_n \\end{bmatrix} $ 的和：\n",
    "\n",
    "$$ \\mathbf{w} = \\mathbf{u} + \\mathbf{v} = \\begin{bmatrix} u_1 + v_1 \\ u_2 + v_2 \\ \\vdots \\ u_n + v_n \\end{bmatrix} $$\n",
    "\n",
    "例子：\n",
    "\n",
    "$ \\mathbf{u} = \\begin{bmatrix} 1 \\ 3 \\end{bmatrix} $ , $ \\mathbf{v} = \\begin{bmatrix} 4 \\ 2 \\end{bmatrix} $ : \n",
    "$$ \\mathbf{w} = \\mathbf{u} + \\mathbf{v} = \\begin{bmatrix} 1 + 4 \\ 3 + 2 \\end{bmatrix} = \\begin{bmatrix} 5 \\ 5 \\end{bmatrix} $$\n",
    "\n",
    "#### 向量数乘\n",
    "\n",
    "若有一个标量k和向量$ \\mathbf{v} = \\begin{bmatrix} v_1 \\ v_2 \\ \\vdots \\ v_n \\end{bmatrix} $，则数乘的结果为：\n",
    "\n",
    "$$ k \\mathbf{v} = \\begin{bmatrix} k v_1 \\ k v_2 \\ \\vdots \\ k v_n \\end{bmatrix} $$\n",
    "\n",
    "例子：设标量k = 3和向量$ \\mathbf{v} = \\begin{bmatrix} 2 \\ 4 \\end{bmatrix} $  ，我们可以计算：\n",
    "\n",
    "$$ k \\mathbf{v} = 3 \\begin{bmatrix} 2 \\ 4 \\end{bmatrix} = \\begin{bmatrix} 3 \\cdot 2 \\ 3 \\cdot 4 \\end{bmatrix} = \\begin{bmatrix} 6 \\ 12 \\end{bmatrix} $$\n",
    "\n",
    "#### 向量的点积（内积）\n",
    "\n",
    "$ \\mathbf{u} \\cdot \\mathbf{v} = u_1 v_1 + u_2 v_2 + \\ldots + u_n v_n $\n",
    "\n",
    "例子：考虑向量 $ \\mathbf{u} = \\begin{bmatrix} 1 \\ 3 \\ -5 \\end{bmatrix} $ 和 $ \\mathbf{v} = \\begin{bmatrix} 4 \\ -2 \\ -1 \\end{bmatrix} $  ：\n",
    "\n",
    "$$ \\mathbf{u} \\cdot \\mathbf{v} = 1 \\cdot 4 + 3 \\cdot (-2) + (-5) \\cdot (-1) = 4 - 6 + 5 = 3 $$\n",
    "\n",
    "\n",
    "### 矩阵的运算\n",
    "\n",
    "#### 矩阵加法\n",
    "\n",
    "$$ C = A + B = \\begin{bmatrix} a_{11} + b_{11} & a_{12} + b_{12} & \\ldots \\\\ \n",
    "                               a_{21} + b_{21} & a_{22} + b_{22} & \\ldots \\\\ \n",
    "                               \\vdots & \\vdots & \\ddots \\end{bmatrix} $$\n",
    "\n",
    "例子：假设 $ A = \\begin{bmatrix} 1 & 2 \\\\ \n",
    "                               3 & 4 \\end{bmatrix} $ 和 $ B = \\begin{bmatrix} 5 & 6 \\\\ \n",
    "                                                                              7 & 8 \\end{bmatrix} $，那么：\n",
    "\n",
    "$$ C = A + B = \\begin{bmatrix} 1 + 5 & 2 + 6 \\\\ \n",
    "                               3 + 7 & 4 + 8 \\end{bmatrix} = \\begin{bmatrix} 6 & 8 \\\\ \n",
    "                                                                             10 & 12 \\end{bmatrix} $$"
   ]
  },
  {
   "cell_type": "code",
   "execution_count": 1,
   "metadata": {},
   "outputs": [
    {
     "name": "stdout",
     "output_type": "stream",
     "text": [
      "[[ 6  8]\n",
      " [10 12]]\n"
     ]
    }
   ],
   "source": [
    "import numpy as np\n",
    "\n",
    "A = np.array([[1, 2], [3, 4]])\n",
    "B = np.array([[5, 6], [7, 8]])\n",
    "C = A + B\n",
    "\n",
    "print(C)"
   ]
  },
  {
   "cell_type": "markdown",
   "metadata": {},
   "source": [
    "### 矩阵数乘\n",
    "\n",
    "假设矩阵 A 的维度是$ m \\times n $，标量为 k，那么矩阵数乘的定义如下：\n",
    "\n",
    "$$ B = kA, \\quad B[i,j] = k \\cdot A[i,j] \\quad (1 \\leq i \\leq m, \\ 1 \\leq j \\leq n) $$\n",
    "\n",
    "例子: 考虑一个标量 k = 3 和矩阵 $ A = \\begin{pmatrix} 1 & 2 3 & 4 \\end{pmatrix} $ 我们计算矩阵 B = 3A :\n",
    "\n",
    "$$ B = 3 \\cdot \\begin{pmatrix} 1 & 2 \\\\ \n",
    "       3 & 4 \\end{pmatrix} \n",
    "= \\begin{pmatrix} 3 \\cdot 1 & 3 \\cdot 2 \\\\ \n",
    "                  3 \\cdot 3 & 3 \\cdot 4 \\end{pmatrix} \n",
    "= \\begin{pmatrix} 3 & 6 \\\\ \n",
    "                  9 & 12 \\end{pmatrix} $$"
   ]
  },
  {
   "cell_type": "code",
   "execution_count": 2,
   "metadata": {},
   "outputs": [
    {
     "name": "stdout",
     "output_type": "stream",
     "text": [
      "[[ 3  6]\n",
      " [ 9 12]]\n"
     ]
    }
   ],
   "source": [
    "k = 3\n",
    "B = k * A\n",
    "\n",
    "print(B)"
   ]
  },
  {
   "cell_type": "markdown",
   "metadata": {},
   "source": [
    "#### 重要的性质\n",
    "\n",
    "- 加法的交换律：A + B = B + A \n",
    "- 加法的结合律：A + (B + C) = (A + B) + C\n",
    "- 数乘的分配律：k(A + B) = kA + kB"
   ]
  }
 ],
 "metadata": {
  "kernelspec": {
   "display_name": "Python 3",
   "language": "python",
   "name": "python3"
  },
  "language_info": {
   "codemirror_mode": {
    "name": "ipython",
    "version": 3
   },
   "file_extension": ".py",
   "mimetype": "text/x-python",
   "name": "python",
   "nbconvert_exporter": "python",
   "pygments_lexer": "ipython3",
   "version": "3.10.10"
  }
 },
 "nbformat": 4,
 "nbformat_minor": 2
}
