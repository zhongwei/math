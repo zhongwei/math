{
 "cells": [
  {
   "cell_type": "markdown",
   "metadata": {},
   "source": [
    "## 内积的定义与性质\n",
    "\n",
    "### 内积的定义\n",
    "内积是一个将两个向量映射到一个标量的运算。在实数向量空间中，内积通常定义为：\n",
    "$$ \\langle \\mathbf{u}, \\mathbf{v} \\rangle = \\sum_{i=1}^{n} u_i v_i $$\n",
    "其中，$ \\mathbf{u} = (u_1, u_2, \\ldots, u_n) $ 和 $ \\mathbf{v} = (v_1, v_2, \\ldots, v_n) $ 是 $ \\mathbb{R}^n $ 中的向量。\n",
    "\n",
    "在复数向量空间中，内积的定义稍有不同：   \n",
    "$$ \\langle \\mathbf{u}, \\mathbf{v} \\rangle = \\sum_{i=1}^{n} u_i \\overline{v_i} $$\n",
    "其中，$ \\overline{v_i} $ 表示 $ v_i $ 的共轭复数。\n",
    "\n",
    "### 内积的性质\n",
    "内积具备以下几个重要性质：\n",
    "1. 线性：对第一个参数线性，对第二个参数共轭线性：\n",
    "$$ \\langle a\\mathbf{u} + b\\mathbf{v}, \\mathbf{w} \\rangle = a\\langle \\mathbf{u}, \\mathbf{w} \\rangle + b\\langle \\mathbf{v}, \\mathbf{w} \\rangle $$\n",
    "\n",
    "2. 对称性（或共轭对称性）：  \n",
    "在实数空间中：$ \\langle \\mathbf{u}, \\mathbf{v} \\rangle = \\langle \\mathbf{v}, \\mathbf{u} \\rangle $\n",
    "在复数空间中：$ \\langle \\mathbf{u}, \\mathbf{v} \\rangle = \\overline{\\langle \\mathbf{v}, \\mathbf{u} \\rangle} $\n",
    "\n",
    "3. 正定性：\n",
    "$$ \\langle \\mathbf{u}, \\mathbf{u} \\rangle \\geq 0, \\quad \\text{当且仅当 } \\mathbf{u} = \\mathbf{0} \\text{ 时等号成立}. $$\n",
    "\n",
    "这些性质让我们能够通过内积来判断两个向量的夹角、长度等几何特性。"
   ]
  },
  {
   "cell_type": "markdown",
   "metadata": {},
   "source": [
    "### 例子\n",
    "**计算内积**：\n",
    "$$ \\mathbf{a} = (1, 2, 3), \\quad \\mathbf{b} = (4, -5, 6) $$\n",
    "$$ \\langle \\mathbf{a}, \\mathbf{b} \\rangle = 1 \\cdot 4 + 2 \\cdot (-5) + 3 \\cdot 6 = 4 - 10 + 18 = 12 $$\n",
    "\n"
   ]
  },
  {
   "cell_type": "code",
   "execution_count": 1,
   "metadata": {},
   "outputs": [
    {
     "name": "stdout",
     "output_type": "stream",
     "text": [
      "内积: 12\n"
     ]
    }
   ],
   "source": [
    "import numpy as np\n",
    "\n",
    "# 定义向量\n",
    "a = np.array([1, 2, 3])\n",
    "b = np.array([4, -5, 6])\n",
    "\n",
    "# 计算内积\n",
    "inner_product = np.dot(a, b)\n",
    "print(f\"内积: {inner_product}\")"
   ]
  }
 ],
 "metadata": {
  "kernelspec": {
   "display_name": "Python 3",
   "language": "python",
   "name": "python3"
  },
  "language_info": {
   "codemirror_mode": {
    "name": "ipython",
    "version": 3
   },
   "file_extension": ".py",
   "mimetype": "text/x-python",
   "name": "python",
   "nbconvert_exporter": "python",
   "pygments_lexer": "ipython3",
   "version": "3.10.10"
  }
 },
 "nbformat": 4,
 "nbformat_minor": 2
}
