{
 "cells": [
  {
   "cell_type": "markdown",
   "metadata": {},
   "source": []
  },
  {
   "cell_type": "markdown",
   "metadata": {},
   "source": [
    "## 特征值的定义与计算\n",
    "\n",
    "### 特征值的定义\n",
    "\n",
    "设有一个方阵 $ A $，一个非零向量 $ v $ 叫做 $ A $ 的特征向量，如果存在一个数 $ \\lambda $，使得下式成立：\n",
    "$$ A\\mathbf{v} = \\lambda \\mathbf{v}  $$\n",
    "\n",
    "$ \\lambda $ : 特征值（Eigenvalue）， $ v $ : 特征向量（Eigenvector）。\n",
    "直观上，特征向量是在应用矩阵 $ A $ 时方向不变，而特征值则表示在该方向上的拉伸或压缩程度。\n",
    "\n",
    "### 特征值的几何解释\n",
    "\n",
    "几何上，特征值和特征向量可以看作是线性变换的“固有性质”。比如，如果我们把一个二维平面上的向量视为一个点，当我们用一个矩阵 $ A $\n",
    " 去变换这个点时，大部分点都会改变方向和长度。然而，某些特定的方向（即特征向量）上的点，在变换后仍然沿着原来的方向，只是长度有所改变，长度变化的倍数就是这个方向的特征值。\n",
    "\n",
    "### 特征值的计算\n",
    "\n",
    "1. 特征多项式：\n",
    "\n",
    "首先，设定方程 $ Av = \\lambda v $，并将其改写为 $ (A - \\lambda I)v = 0 $, 其中 $ I $ 是单位矩阵。要有非零解 $ v $, \n",
    "矩阵 $ (A - \\lambda I) $ 的行列式必须为 0。因此，特征值 $ \\lambda $ 是满足以下方程的解：\n",
    "\n",
    "\n",
    "$$ \\text{det}(A - \\lambda I) = 0 $$\n",
    "\n",
    "$ I $ 是与 $ A $ 同阶的单位矩阵，$ \\lambda $ 是特征值。这一方程的解 $ \\lambda $ 就是矩阵 $ A $ 的特征值。\n",
    "\n",
    "2. 求解步骤：\n",
    "    - 计算 $ A - \\lambda I $，并求其行列式。\n",
    "    - 将行列式设为0，得到一个关于 $ \\lambda $ 的多项式。\n",
    "    - 求出该多项式的根，这些根即为特征值。\n",
    "\n",
    "### 例子\n",
    "\n",
    "$ A = \\begin{pmatrix} 2 & 1 \\\\ 1 & 2 \\end{pmatrix} \\implies \n",
    "  A - \\lambda I = \\begin{pmatrix} 2 & 1 \\\\ 1 & 2 \\end{pmatrix} - \\lambda \\begin{pmatrix} 1 & 0 \\\\ 0 & 1 \\end{pmatrix} =        \\begin{pmatrix} 2 - \\lambda & 1 \\\\ 1 & 2 - \\lambda \\end{pmatrix} $\n",
    "\n",
    "$ \\text{det}(A - \\lambda I) = (2 - \\lambda)(2 - \\lambda) - 1 \\cdot 1 = (2 - \\lambda)^2 - 1 = 0$\n",
    "\n",
    "$ (2 - \\lambda)^2 - 1 = 0 \\implies 2 - \\lambda = \\pm 1 \\implies \\lambda_1 = 3, \\lambda_2 =1 $\n",
    "\n",
    "矩阵 $ A $ 的特征值为 $ \\lambda_1 = 3 $ 和 $ \\lambda_2 = 1 $。"
   ]
  },
  {
   "cell_type": "code",
   "execution_count": 1,
   "metadata": {},
   "outputs": [
    {
     "name": "stdout",
     "output_type": "stream",
     "text": [
      "特征值: [3. 1.]\n"
     ]
    }
   ],
   "source": [
    "import numpy as np\n",
    "\n",
    "# 定义矩阵\n",
    "A = np.array([[2, 1],\n",
    "              [1, 2]])\n",
    "\n",
    "# 计算特征值\n",
    "eigenvalues, eigenvectors = np.linalg.eig(A)\n",
    "\n",
    "print(\"特征值:\", eigenvalues)"
   ]
  }
 ],
 "metadata": {
  "kernelspec": {
   "display_name": "Python 3",
   "language": "python",
   "name": "python3"
  },
  "language_info": {
   "codemirror_mode": {
    "name": "ipython",
    "version": 3
   },
   "file_extension": ".py",
   "mimetype": "text/x-python",
   "name": "python",
   "nbconvert_exporter": "python",
   "pygments_lexer": "ipython3",
   "version": "3.10.10"
  }
 },
 "nbformat": 4,
 "nbformat_minor": 2
}
