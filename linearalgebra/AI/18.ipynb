{
 "cells": [
  {
   "cell_type": "markdown",
   "metadata": {},
   "source": [
    "## 正交向量与正交基\n",
    "\n",
    "### 正交向量\n",
    "正交向量是指在一个内积空间中，两个向量的内积为零。给定向量 $ \\mathbf{u} $ 和 $ \\mathbf{v} $，若满足以下条件：\n",
    "$$ \\langle \\mathbf{u}, \\mathbf{v} \\rangle = 0 $$\n",
    "称 $ \\mathbf{u} $ 和 $ \\mathbf{v} $ 是正交的。\n",
    "\n",
    "**例子**:    \n",
    "例如，在 $ \\mathbb{R}^3 $ 空间中，向量 $ \\mathbf{u} = (1, 0, 0) $ 和 $ \\mathbf{v} = (0, 1, 0) $ 是正交的，因为它们的内积为：\n",
    "$$ \\langle \\mathbf{u}, \\mathbf{v} \\rangle = 1 \\cdot 0 + 0 \\cdot 1 + 0 \\cdot 0 = 0 $$\n",
    "\n",
    "### 正交向量的应用\n",
    "有一个二维平面上的两个向量 $ \\mathbf{a} = (2, 3) $ 和 $ \\mathbf{b} = (-3, 2) $ \n",
    "$$ \\langle \\mathbf{a}, \\mathbf{b} \\rangle = 2 \\cdot (-3) + 3 \\cdot 2 = -6 + 6 = 0 $$\n",
    "它们的内积为零，因此我们可以说这两个向量是正交的。\n",
    "\n",
    "### 正交基\n",
    "在一个向量空间中，一个基是指一组线性无关的向量，可以通过这些基向量的线性组合来表示向量空间中的任意向量。\n",
    "如果这组基中的任意两个不同向量都是正交的,我们称这组基为正交基.\n",
    "\n",
    "**例子**:   \n",
    "在三维空间中，基向量 $ \\mathbf{e}_1 = (1, 0, 0) $、$ \\mathbf{e}_2 = (0, 1, 0) $ 和 $ \\mathbf{e}_3 = (0, 0, 1) $ 组成的基是正交基，因为它们彼此正交，且每个向量的长度为1。\n",
    "\n",
    "### 正交基的性质\n",
    "正交基的一个重要性质是其规范化（单位化）。如果我们将正交基的每个向量都单位化，我们得到一个正交单位基，即每个向量的长度为1。对于正交单位基 $ \\mathbf{e}_1, \\mathbf{e}_2, \\mathbf{e}_3 $ 我们有：\n",
    "$$ |\\mathbf{e}_i| = 1, \\quad \\forall i $$"
   ]
  },
  {
   "cell_type": "code",
   "execution_count": 2,
   "metadata": {},
   "outputs": [
    {
     "name": "stdout",
     "output_type": "stream",
     "text": [
      "正交基:\n",
      "[[ 1.          1.          0.        ]\n",
      " [ 0.5        -0.5         1.        ]\n",
      " [-0.66666667  0.66666667  0.66666667]]\n",
      "\n",
      "单位正交基:\n",
      "[[ 0.70710678  0.70710678  0.        ]\n",
      " [ 0.40824829 -0.40824829  0.81649658]\n",
      " [-0.57735027  0.57735027  0.57735027]]\n"
     ]
    }
   ],
   "source": [
    "# 使用格拉姆-施密特过程来从一组线性无关的向量中构造正交基。\n",
    "import numpy as np\n",
    "\n",
    "def gram_schmidt(vectors):\n",
    "    # 确保输入是一组向量组成的列表\n",
    "    basis = []\n",
    "    for v in vectors:\n",
    "        u = np.copy(v)\n",
    "        for w in basis:\n",
    "            proj = np.dot(u, w) / np.dot(w, w) * w\n",
    "            u -= proj\n",
    "        if not np.allclose(u, 0):  # 避免将零向量加入基\n",
    "            basis.append(u)\n",
    "    return np.array(basis)\n",
    "\n",
    "# 示例：定义一组线性无关的向量\n",
    "vectors = np.array([[1, 1, 0], [1, 0, 1], [0, 1, 1]], dtype=float)\n",
    "\n",
    "# 应用格拉姆-施密特过程\n",
    "orthogonal_basis = gram_schmidt(vectors)\n",
    "\n",
    "# 输出正交基\n",
    "print(\"正交基:\")\n",
    "print(orthogonal_basis)\n",
    "\n",
    "# 可选：将正交基单位化\n",
    "normalized_orthogonal_basis = orthogonal_basis / np.linalg.norm(orthogonal_basis, axis=1)[:, None]\n",
    "print(\"\\n单位正交基:\")\n",
    "print(normalized_orthogonal_basis)"
   ]
  }
 ],
 "metadata": {
  "kernelspec": {
   "display_name": "Python 3",
   "language": "python",
   "name": "python3"
  },
  "language_info": {
   "codemirror_mode": {
    "name": "ipython",
    "version": 3
   },
   "file_extension": ".py",
   "mimetype": "text/x-python",
   "name": "python",
   "nbconvert_exporter": "python",
   "pygments_lexer": "ipython3",
   "version": "3.10.10"
  }
 },
 "nbformat": 4,
 "nbformat_minor": 2
}
