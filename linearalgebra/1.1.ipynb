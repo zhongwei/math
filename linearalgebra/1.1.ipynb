{
 "cells": [
  {
   "cell_type": "markdown",
   "metadata": {},
   "source": [
    "对于二元一次方程组\n",
    "$ \n",
    "\\begin{cases}\n",
    "   a_{11}x_1+a_{12}x_2=b_1 \\\\ \n",
    "   a_{21}x_1+a_{22}x_2=b_2 \\\\ \n",
    "\\end{cases} \n",
    "$"
   ]
  },
  {
   "cell_type": "markdown",
   "metadata": {},
   "source": [
    "#### 二阶行列式"
   ]
  },
  {
   "cell_type": "markdown",
   "metadata": {},
   "source": [
    "当 $ a_{11}a_{22}-a_{12}a_{21} \\neq 0 $ $ x_1 = \\frac{b_1a_{22}-a_{12}b_2}{a_{11}a_{22}-a_{12}a_{21}} $ $ x_2 = \\frac{a_{11}b_2-b_1a_{21}}{a_{11}a_{22}-a_{12}a_{21}} $"
   ]
  },
  {
   "cell_type": "markdown",
   "metadata": {},
   "source": [
    "$ D =\n",
    "\\begin{vmatrix}\n",
    "a_{11} & a_{12} \\\\ \n",
    "a_{21} & a_{22}\n",
    "\\end{vmatrix}\n",
    "$\n",
    "$ = $\n",
    "$ a_{11}a_{22}-a_{12}a_{21} \\neq 0 $"
   ]
  },
  {
   "cell_type": "markdown",
   "metadata": {},
   "source": [
    "$ D_1 = \n",
    "\\begin{vmatrix}\n",
    "b_1 & a_{12} \\\\ \n",
    "b_2 & a_{22}\n",
    "\\end{vmatrix}\n",
    "$\n",
    "$ D_2 = \n",
    "\\begin{vmatrix}\n",
    "a_{11} & b_1 \\\\ \n",
    "a_{21} & b_2\n",
    "\\end{vmatrix}\n",
    "$"
   ]
  },
  {
   "cell_type": "markdown",
   "metadata": {},
   "source": [
    "$ x_1 = \\frac{D_1}{D} $ $ x_2 = \\frac{D_2}{D} $"
   ]
  },
  {
   "cell_type": "markdown",
   "metadata": {},
   "source": [
    "例1 求解线性方程组\n",
    "$ \\begin {cases}\n",
    "2x_1+x_2=4 \\\\ \n",
    "3x_1-2x_2=-1 \\\\ \n",
    "\\end {cases} $"
   ]
  },
  {
   "cell_type": "markdown",
   "metadata": {},
   "source": [
    "#### 三阶行列式"
   ]
  },
  {
   "cell_type": "markdown",
   "metadata": {},
   "source": [
    "对于三元一次方程组\n",
    "$ \n",
    "\\begin{cases}\n",
    "   a_{11}x_1+a_{12}x_2+a_{13}x_3=b_1 \\\\ \n",
    "   a_{21}x_1+a_{22}x_2+a_{23}x_3=b_2 \\\\ \n",
    "   a_{31}x_1+a_{32}x_2+a_{33}x_3=b_3 \\\\ \n",
    "\\end{cases} \n",
    "$"
   ]
  },
  {
   "cell_type": "markdown",
   "metadata": {},
   "source": [
    "当\n",
    "$D =\n",
    "\\begin{vmatrix}\n",
    "a_{11} & a_{12} & a_{13} \\\\ \n",
    "a_{21} & a_{22} & a_{23} \\\\ \n",
    "a_{31} & a_{32} & a_{33}\n",
    "\\end{vmatrix} \\neq 0 \n",
    "$\n",
    "时"
   ]
  },
  {
   "cell_type": "markdown",
   "metadata": {},
   "source": [
    "$D_1 =\n",
    "\\begin{vmatrix}\n",
    "b_1 & a_{12} & a_{13} \\\\ \n",
    "b_2 & a_{22} & a_{23} \\\\ \n",
    "b_3 & a_{32} & a_{33}\n",
    "\\end{vmatrix} \n",
    "$\n",
    "$D_2 =\n",
    "\\begin{vmatrix}\n",
    "a_{11} & b_1 & a_{13} \\\\ \n",
    "a_{21} & b_2 & a_{23} \\\\ \n",
    "a_{31} & b_3 & a_{33}\n",
    "\\end{vmatrix} \n",
    "$\n",
    "$D_3 =\n",
    "\\begin{vmatrix}\n",
    "a_{11} & a_{12} & b_1 \\\\ \n",
    "a_{21} & a_{22} & b_2 \\\\ \n",
    "a_{31} & a_{32} & b_3\n",
    "\\end{vmatrix} \n",
    "$"
   ]
  },
  {
   "cell_type": "markdown",
   "metadata": {},
   "source": [
    "$ x_1 = \\frac{D_1}{D} $ $ x_2 = \\frac{D_2}{D} $ $ x_3 = \\frac{D_3}{D} $"
   ]
  },
  {
   "cell_type": "markdown",
   "metadata": {},
   "source": []
  },
  {
   "cell_type": "markdown",
   "metadata": {},
   "source": []
  },
  {
   "cell_type": "markdown",
   "metadata": {},
   "source": []
  },
  {
   "cell_type": "markdown",
   "metadata": {},
   "source": []
  },
  {
   "cell_type": "markdown",
   "metadata": {},
   "source": []
  },
  {
   "cell_type": "markdown",
   "metadata": {},
   "source": []
  },
  {
   "cell_type": "markdown",
   "metadata": {},
   "source": []
  },
  {
   "cell_type": "markdown",
   "metadata": {},
   "source": []
  },
  {
   "cell_type": "markdown",
   "metadata": {},
   "source": []
  },
  {
   "cell_type": "markdown",
   "metadata": {},
   "source": []
  },
  {
   "cell_type": "markdown",
   "metadata": {},
   "source": []
  },
  {
   "cell_type": "markdown",
   "metadata": {},
   "source": []
  },
  {
   "cell_type": "markdown",
   "metadata": {},
   "source": []
  },
  {
   "cell_type": "markdown",
   "metadata": {},
   "source": []
  },
  {
   "cell_type": "markdown",
   "metadata": {},
   "source": []
  },
  {
   "cell_type": "markdown",
   "metadata": {},
   "source": []
  },
  {
   "cell_type": "markdown",
   "metadata": {},
   "source": []
  },
  {
   "cell_type": "markdown",
   "metadata": {},
   "source": []
  },
  {
   "cell_type": "markdown",
   "metadata": {},
   "source": [
    "$$ f(n) = \\begin{cases} n/2, & \\mbox{if } n\\mbox{ is even} \\\\ 3n+1, & \\mbox{if } n\\mbox{ is odd} \\end{cases} $$"
   ]
  },
  {
   "cell_type": "markdown",
   "metadata": {},
   "source": [
    "$$ f(n) = \\begin{cases} n/2, & \\mbox{if } n\\mbox{ is even} \\\\ 3n+1, & \\mbox{if } n\\mbox{ is odd} \\end{cases} $$"
   ]
  },
  {
   "cell_type": "markdown",
   "metadata": {},
   "source": [
    "$$ u(x) = \n",
    "  \\begin{cases} \n",
    "   \\exp{x} & \\text{if } x \\geq 0 \\\\\n",
    "   1       & \\text{if } x < 0\n",
    "  \\end{cases} $$"
   ]
  },
  {
   "cell_type": "markdown",
   "metadata": {},
   "source": [
    "| This | is   |\n",
    "|------|------|\n",
    "|   $$ x_2=\\frac{a_{11}b_2-b_1a_{21}}{a_{11}a_{22}-a_{12}a_{21}} $$  | table|"
   ]
  },
  {
   "cell_type": "code",
   "execution_count": null,
   "metadata": {},
   "outputs": [],
   "source": []
  }
 ],
 "metadata": {
  "kernelspec": {
   "display_name": "Python 3",
   "language": "python",
   "name": "python3"
  },
  "language_info": {
   "codemirror_mode": {
    "name": "ipython",
    "version": 3
   },
   "file_extension": ".py",
   "mimetype": "text/x-python",
   "name": "python",
   "nbconvert_exporter": "python",
   "pygments_lexer": "ipython3",
   "version": "3.6.3"
  }
 },
 "nbformat": 4,
 "nbformat_minor": 2
}
