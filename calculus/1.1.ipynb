{
 "cells": [
  {
   "cell_type": "markdown",
   "metadata": {},
   "source": [
    "## 第一章、极限与连续\n",
    "### 第一讲、函数\n",
    "#### 准备知识"
   ]
  },
  {
   "cell_type": "markdown",
   "metadata": {},
   "source": [
    "- 1.1.1 实数与实数集\n",
    "##### 实数与数轴"
   ]
  },
  {
   "cell_type": "code",
   "execution_count": 69,
   "metadata": {},
   "outputs": [
    {
     "data": {
      "image/png": "[encoded data removed]",
      "text/plain": [
       "<Figure size 720x144 with 1 Axes>"
      ]
     },
     "metadata": {},
     "output_type": "display_data"
    }
   ],
   "source": [
    "import matplotlib.pyplot as plt\n",
    "\n",
    "plt.rcParams['font.sans-serif'] = ['SimHei']  # 中文字体设置  \n",
    "plt.rcParams['axes.unicode_minus'] = False \n",
    "\n",
    "plt.figure(figsize = (10, 2))\n",
    "plt.style.use('ggplot')\n",
    "\n",
    "plt.xlabel('Plot Number')\n",
    "plt.title(u'实数与数轴')\n",
    "plt.axis([0, 10, 0, 2])\n",
    "\n",
    "plt.annotate('原点', xy=(0, 0), xytext=(3, 1.5),\n",
    "            arrowprops=dict(facecolor='blue', shrink=0.05),\n",
    ")\n",
    "plt.show()"
   ]
  },
  {
   "cell_type": "markdown",
   "metadata": {},
   "source": [
    "##### 实数集\n",
    "- 1) 区间: 开区间 (a, b) 闭区间 [a, b] 半开半闭区间 (a, b], [a, b)\n",
    "- 2) 邻域: 称开区间 $(x_0-\\delta，x_0+\\delta)$ 为点 $x_0$的$\\delta$邻域  \n",
    "去心邻域: $(x_0-\\delta，x_0)\\bigcup(x_0，x_0+\\delta)$"
   ]
  },
  {
   "cell_type": "markdown",
   "metadata": {},
   "source": [
    "- 1.1.2 有界集与上下确界\n",
    "##### 有界集\n",
    "设数集D有上界，则必有一个最小的上界。称之为**上确界**，记为 $\\sup\\limits_{x\\in D}D.$  \n",
    "$ A = \\sup\\limits_{x\\in D}D\\Leftrightarrow\\forall x\\in D$，有$x\\leq A$\n",
    "且$\\forall\\epsilon>0,\\exists x_0\\in D, s.t. x_0 > A - \\epsilon$\n",
    "##### 公理\n",
    "设数集D有下界，则必有一个最大的下界，称之为**下确界**，记为$\\inf\\limits_{x\\in D}$.\n",
    "##### 推论"
   ]
  },
  {
   "cell_type": "markdown",
   "metadata": {},
   "source": [
    "- 1.1.3 函数及常用函数\n",
    "##### 函数\n",
    "  设在某一问题中，存在两个变量x, y, 如果对于变量x所取的每一个值x， 通过一定规律(关系)，都有唯一变量y与之对应，此时称变量x为自变 量，变量y叫做因变量，又叫做x的函数，记为y=f (x).  \n",
    "  三个要素： **自变量**，**函数关系**，**因变量**\n",
    "##### 常见函数\n",
    "  1. 数列（整标函数）. 记为$\\{x_n\\},\\{y_n\\}$或$\\{a_n\\}$.  \n",
    "      y = f(x), x = 1,2,...\n",
    "  2. 基本初等函数.  \n",
    "      包含**常值函数**、**幂函数**、**指数函数**、**对数函数**、**三角函数**与**反三角函数**。  \n",
    "      y = C    $y = x^a$    $y = a^x$    y = lnx  \n",
    "      $y=\\begin{cases}sinx\\\\cosx\\\\tanx\\\\cotx\\end{cases}$\n",
    "      $y=\\begin{cases}arcsinx\\\\arccosx\\\\arctanx\\\\arccotx\\end{cases}$\n",
    "  3. 初等函数.  \n",
    "  基本初等函数经过有限多次复合与四则运算得到的函数.  \n",
    "  **复合:**\n",
    "      y = f(u), u = g(x) $\\Rightarrow$ y = f(g(x))"
   ]
  },
  {
   "cell_type": "markdown",
   "metadata": {},
   "source": [
    "- 1.1.4 复合函数举例  \n",
    "例. 设$f(x)=\\begin{cases}x^2+1,&x\\leq 0\\\\sinx,&x>0\\end{cases}$,$g(x)=\\begin{cases}x^3,&x\\leq 1\\\\ \\sqrt{x},&x>0\\end{cases}$,  求f(g(x)).  \n",
    "解：$f(g(x))=\\begin{cases}g^2(x)+1,&g(x)\\leq 0\\\\sin(g(x)),&g(x)>0\\end{cases}$"
   ]
  },
  {
   "cell_type": "markdown",
   "metadata": {},
   "source": [
    "- 1.1.5 极坐标"
   ]
  }
 ],
 "metadata": {
  "kernelspec": {
   "display_name": "Python 3",
   "language": "python",
   "name": "python3"
  },
  "language_info": {
   "codemirror_mode": {
    "name": "ipython",
    "version": 3
   },
   "file_extension": ".py",
   "mimetype": "text/x-python",
   "name": "python",
   "nbconvert_exporter": "python",
   "pygments_lexer": "ipython3",
   "version": "3.6.3"
  }
 },
 "nbformat": 4,
 "nbformat_minor": 2
}
